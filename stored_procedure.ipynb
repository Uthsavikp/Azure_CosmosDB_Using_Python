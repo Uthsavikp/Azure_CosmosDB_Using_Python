{
  "cells": [
    {
      "cell_type": "code",
      "execution_count": null,
      "id": "d48e8847-6a73-4d0b-9e0e-8123aee42fec",
      "metadata": {
        "collapsed": true,
        "jupyter": {
          "outputs_hidden": false,
          "source_hidden": false
        },
        "nteract": {
          "transient": {
            "deleting": false
          }
        },
        "trusted": true
      },
      "outputs": [],
      "source": [
        "'''\n",
        "* @Author: Uthsavi KP\n",
        "* @Date: 2020-02-18 21:11:56\n",
        "* @Last Modified by: Uthsavi KP\n",
        "* @Last Modified time: 2020-02-18 21:11:56\n",
        "* @Title : To Write Stored Procedure In Javascript For SQL Api And Run It Using Python\n",
        "'''\n",
        "import azure.cosmos.cosmos_client as cosmos_client\n",
        "\n",
        "url = \"<account_url>\"\n",
        "key = \"<key>\"\n",
        "database_name = \"Novel-list\"\n",
        "container_name = \"novels\"\n",
        "\n",
        "with open('js/spCreateToDoItems.js') as file:\n",
        "    file_contents = file.read()\n",
        "\n",
        "sproc = {\n",
        "    'id': 'spCreateToDoItem1',\n",
        "    'serverScript': file_contents,\n",
        "}\n",
        "client = cosmos_client.CosmosClient(url, key)\n",
        "database = client.get_database_client(database_name)\n",
        "container = database.get_container_client(container_name)\n",
        "created_sproc = container.scripts.create_stored_procedure(body=sproc) \n"
      ]
    },
    {
      "cell_type": "code",
      "execution_count": null,
      "id": "b767ab7c-3737-4529-bedf-bc6c492acf68",
      "metadata": {
        "collapsed": true,
        "jupyter": {
          "outputs_hidden": false,
          "source_hidden": false
        },
        "nteract": {
          "transient": {
            "deleting": false
          }
        },
        "trusted": true
      },
      "outputs": [],
      "source": [
        "import uuid\n",
        "\n",
        "new_id= str(uuid.uuid4())\n",
        "\n",
        "# Creating a document for a container with \"id\" as a partition key.\n",
        "\n",
        "new_item =   {\n",
        "      \"id\": new_id, \n",
        "      \"genre\":\"Mystery\",\n",
        "      \"name\":\"Agatha Christie\",\n",
        "      \"isComplete\":False\n",
        "   }\n",
        "result = container.scripts.execute_stored_procedure(sproc=created_sproc,params=[[new_item]], partition_key=new_id) "
      ]
    }
  ],
  "metadata": {
    "language_info": {
      "file_extension": "ipynb",
      "mimetype": "application/json",
      "name": "python",
      "version": "3.7"
    },
    "nteract": {
      "version": "dataExplorer 1.0"
    }
  },
  "nbformat": 4,
  "nbformat_minor": 5
}