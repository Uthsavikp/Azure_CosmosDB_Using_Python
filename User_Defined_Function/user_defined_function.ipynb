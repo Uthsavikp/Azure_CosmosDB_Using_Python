{
  "cells": [
    {
      "cell_type": "code",
      "execution_count": 2,
      "id": "7b863761-6e59-4216-b207-2c9d3ae87698",
      "metadata": {
        "collapsed": true,
        "execution": {
          "iopub.execute_input": "2021-02-19T20:52:33.339Z",
          "iopub.status.busy": "2021-02-19T20:52:33.329Z",
          "iopub.status.idle": "2021-02-19T20:52:33.425Z",
          "shell.execute_reply": "2021-02-19T20:52:33.520Z"
        },
        "jupyter": {
          "outputs_hidden": false,
          "source_hidden": false
        },
        "nteract": {
          "transient": {
            "deleting": false
          }
        },
        "trusted": true
      },
      "outputs": [],
      "source": [
        "'''\n",
        "* @Author: Uthsavi KP\n",
        "* @Date: 2020-02-18 23:34:21\n",
        "* @Last Modified by: Uthsavi KP\n",
        "* @Last Modified time: 2020-02-18 23:34:21\n",
        "* @Title : To Write User defined Function In Javascript For SQL Api And Run It Using Python\n",
        "'''\n",
        "\n",
        "import azure.cosmos.cosmos_client as cosmos_client\n",
        "\n",
        "url = \"<account_url>\"\n",
        "key = \"<key>\"\n",
        "database_name = \"Novel-list\"\n",
        "container_name = \"novels\"\n",
        "\n",
        "with open('js/udfPrice.js') as file:\n",
        "    file_contents = file.read()\n",
        "udf_definition = {\n",
        "    'id': 'Tax',\n",
        "    'serverScript': file_contents,\n",
        "}\n",
        "client = cosmos_client.CosmosClient(url, key)\n",
        "database = client.get_database_client(database_name)\n",
        "container = database.get_container_client(container_name)\n",
        "udf = container.scripts.create_user_defined_function(udf_definition)"
      ]
    },
    {
      "cell_type": "code",
      "execution_count": 3,
      "id": "5f2db59d-5eba-46da-a771-df1a23932a57",
      "metadata": {
        "collapsed": true,
        "execution": {
          "iopub.execute_input": "2021-02-19T20:52:39.250Z",
          "iopub.status.busy": "2021-02-19T20:52:39.235Z",
          "iopub.status.idle": "2021-02-19T20:52:39.307Z",
          "shell.execute_reply": "2021-02-19T20:52:39.415Z"
        },
        "jupyter": {
          "outputs_hidden": false,
          "source_hidden": false
        },
        "nteract": {
          "transient": {
            "deleting": false
          }
        },
        "trusted": true
      },
      "outputs": [],
      "source": [
        "import json\n",
        "for item in container.query_items(\n",
        "    query='SELECT * FROM novels n WHERE udf.Tax(n.price) > 150',\n",
        "    enable_cross_partition_query=True):    \n",
        "      print(json.dumps(item, indent=True))"
      ]
    }
  ],
  "metadata": {
    "language_info": {
      "file_extension": "ipynb",
      "mimetype": "application/json",
      "name": "python",
      "version": "3.7"
    },
    "nteract": {
      "version": "dataExplorer 1.0"
    }
  },
  "nbformat": 4,
  "nbformat_minor": 5
}