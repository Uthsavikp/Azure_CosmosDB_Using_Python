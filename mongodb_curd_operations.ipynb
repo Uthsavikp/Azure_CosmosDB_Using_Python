{
  "cells": [
    {
      "cell_type": "code",
      "execution_count": 1,
      "id": "10da8610-546f-4cfe-bc12-7cea42ed8fac",
      "metadata": {
        "collapsed": true,
        "execution": {
          "iopub.execute_input": "2021-02-18T03:57:06.769Z",
          "iopub.status.busy": "2021-02-18T03:57:06.656Z",
          "iopub.status.idle": "2021-02-18T03:57:07.087Z",
          "shell.execute_reply": "2021-02-18T03:57:07.281Z"
        },
        "jupyter": {
          "outputs_hidden": false,
          "source_hidden": false
        },
        "nteract": {
          "transient": {
            "deleting": false
          }
        },
        "trusted": true
      },
      "outputs": [
        {
          "name": "stdout",
          "output_type": "stream",
          "text": "{'_id': ObjectId('602bd873aed0c0dd16deb9a9'), 'bookid': 100, 'title': 'Sparkling Cyanide', 'author': 'Agatha Christie', 'genre': 'Murder Mystery'}\n{'_id': ObjectId('602bd873aed0c0dd16deb9a9'), 'bookid': 100, 'title': 'Sparkling Cyanide', 'author': 'Agatha Christie', 'genre': 'Murder Mystery'}\n{'_id': ObjectId('602bd873aed0c0dd16deb9aa'), 'bookid': 200, 'title': 'The Hound Of The Baskervilles', 'author': 'Arthur Conan Doyle', 'genre': 'Detective Fiction'}\n{'_id': ObjectId('602bd873aed0c0dd16deb9ab'), 'bookid': 300, 'title': 'Master Of The Game', 'author': 'Sidney Sheldon', 'genre': 'Thriller'}\n{'_id': ObjectId('602bd873aed0c0dd16deb9ab'), 'bookid': 300, 'title': 'Master Of The Game', 'author': 'Sidney Sheldon', 'genre': 'Thriller'}\n{'_id': ObjectId('602bd873aed0c0dd16deb9ac'), 'bookid': 400, 'title': 'Murder Is Easy', 'author': 'Agatha Christie', 'genre': 'Crime Novel'}\n{'_id': ObjectId('602de3c4d0180ee548f078d0'), 'bookid': 100, 'title': 'Murder Is Announced', 'author': 'Agatha Christie', 'genre': 'Murder Mystery'}\n{'_id': ObjectId('602de3c4d0180ee548f078d1'), 'bookid': 200, 'title': 'The Hound Of The Baskervilles', 'author': 'Arthur Conan Doyle', 'genre': 'Detective Fiction'}\n{'_id': ObjectId('602de3c4d0180ee548f078d2'), 'bookid': 300, 'title': 'Master Of The Game', 'author': 'Sidney Sheldon', 'genre': 'Thriller'}\n{'_id': ObjectId('602de3c4d0180ee548f078d3'), 'bookid': 400, 'title': 'Murder Is Easy', 'author': 'Agatha Christie', 'genre': 'Crime Novel'}\n{'_id': ObjectId('602de444ce2192de5b7b918d'), 'bookid': 100, 'title': 'Murder Is Announced', 'author': 'Agatha Christie', 'genre': 'Murder Mystery'}\n{'_id': ObjectId('602de444ce2192de5b7b918e'), 'bookid': 200, 'title': 'The Hound Of The Baskervilles', 'author': 'Arthur Conan Doyle', 'genre': 'Detective Fiction'}\n{'_id': ObjectId('602de444ce2192de5b7b918f'), 'bookid': 300, 'title': 'Master Of The Game', 'author': 'Sidney Sheldon', 'genre': 'Thriller'}\n{'_id': ObjectId('602de444ce2192de5b7b9190'), 'bookid': 400, 'title': 'Murder Is Easy', 'author': 'Agatha Christie', 'genre': 'Crime Novel'}\n{'_id': ObjectId('602de59492d6aa379ae69cc5'), 'bookid': 100, 'title': 'Murder Is Announced', 'author': 'Agatha Christie', 'genre': 'Murder Mystery'}\n{'_id': ObjectId('602de59492d6aa379ae69cc6'), 'bookid': 200, 'title': 'The Hound Of The Baskervilles', 'author': 'Arthur Conan Doyle', 'genre': 'Detective Fiction'}\n{'_id': ObjectId('602de59492d6aa379ae69cc7'), 'bookid': 300, 'title': 'Master Of The Game', 'author': 'Sidney Sheldon', 'genre': 'Thriller'}\n{'_id': ObjectId('602de59492d6aa379ae69cc8'), 'bookid': 400, 'title': 'Murder Is Easy', 'author': 'Agatha Christie', 'genre': 'Crime Novel'}\n"
        }
      ],
      "source": [
        "'''\n",
        "* @Author: Uthsavi KP\n",
        "* @Date: 2020-02-16 12:02:47 \n",
        "* @Last Modified by: Uthsavi KP\n",
        "* @Last Modified time: 2020-02-16 12:02:47  \n",
        "* @Title : Perform curd opoerations using mongodb api\n",
        "'''\n",
        "\n",
        "import pymongo\n",
        "from pymongo import MongoClient\n",
        "import json\n",
        "\n",
        "class CurdOperations:\n",
        "    @staticmethod\n",
        "    def main():\n",
        "        \"\"\"\n",
        "        performing curd operations\n",
        "        delete, insert, update and find\n",
        "        \"\"\"\n",
        "        uri = \"<primary connection string>\"\n",
        "        client = pymongo.MongoClient(uri)\n",
        "        mydb = client[\"mongocurd-db\"]\n",
        "        mycol = mydb[\"books\"]\n",
        "\n",
        "        #Insert - Inserts document in the collection\n",
        "        # insert_one() , insert_many()\n",
        "        book1 = {\n",
        "            \"bookid\": 100,\n",
        "            \"title\": \"Murder Is Announced\",\n",
        "            \"author\": \"Agatha Christie\",\n",
        "            \"genre\": \"Murder Mystery\"\n",
        "        }\n",
        "\n",
        "        book2 = {\n",
        "            \"bookid\": 200,\n",
        "            \"title\": \"The Hound Of The Baskervilles\",\n",
        "            \"author\": \"Arthur Conan Doyle\",\n",
        "            \"genre\": \"Detective Fiction\"\n",
        "        }\n",
        "\n",
        "        book3 = {\n",
        "            \"bookid\": 300,\n",
        "            \"title\": \"Master Of The Game\",\n",
        "            \"author\": \"Sidney Sheldon\",\n",
        "            \"genre\": \"Thriller\"\n",
        "        }\n",
        "\n",
        "        book4 = {\n",
        "            \"bookid\": 400,\n",
        "            \"title\": \"Murder Is Easy\",\n",
        "            \"author\": \"Agatha Christie\",\n",
        "            \"genre\": \"Crime Novel\"\n",
        "        }\n",
        "\n",
        "        book5 = {\n",
        "            \"bookid\": 500,\n",
        "            \"title\": \"Sleeping Murder\",\n",
        "            \"author\": \"Agatha Christie\",\n",
        "            \"genre\": \"Crime Novel\"\n",
        "        }\n",
        "        mycol.insert_many([book1, book2, book3, book4, book5])\n",
        "\n",
        "        # updating the data whose 'bookid' is 100\n",
        "        # update operations modifies existing documents in a collection\n",
        "        # update_one() , update_many() , replace_one()\n",
        "        mycol.update_one(\n",
        "            {\"bookid\":100},{\"$set\":{\"title\":\"Sparkling Cyanide\"}}\n",
        "        )\n",
        "        print(mycol.find_one({\"bookid\": 100}))\n",
        "\n",
        "        # Delete - it removes documents from collection\n",
        "        # delete_one() , delete_many()\n",
        "\n",
        "        mycol.delete_one({\"title\": \"Sleeping Murder\"})\n",
        "\n",
        "        #Read operation retrieves document from the collection\n",
        "        #find_one() , find()\n",
        "        results = mycol.find().limit(3)\n",
        "        for documents in results:\n",
        "            print(documents)\n",
        "\n",
        "        results1 = mycol.find().skip(2)\n",
        "        for documents in results1:\n",
        "            print(documents) \n",
        "\n",
        "if __name__ == \"__main__\":\n",
        "    curd_opp = CurdOperations()\n",
        "    curd_opp.main()"
      ]
    }
  ],
  "metadata": {
    "language_info": {
      "file_extension": "ipynb",
      "mimetype": "application/json",
      "name": "python",
      "version": "3.7"
    },
    "nteract": {
      "version": "dataExplorer 1.0"
    }
  },
  "nbformat": 4,
  "nbformat_minor": 5
}